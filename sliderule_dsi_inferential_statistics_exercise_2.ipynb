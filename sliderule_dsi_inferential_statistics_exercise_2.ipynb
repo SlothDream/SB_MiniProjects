{
 "cells": [
  {
   "cell_type": "markdown",
   "metadata": {},
   "source": [
    "# Examining Racial Discrimination in the US Job Market\n",
    "\n",
    "### Background\n",
    "Racial discrimination continues to be pervasive in cultures throughout the world. Researchers examined the level of racial discrimination in the United States labor market by randomly assigning identical résumés to black-sounding or white-sounding names and observing the impact on requests for interviews from employers.\n",
    "\n",
    "### Data\n",
    "In the dataset provided, each row represents a resume. The 'race' column has two values, 'b' and 'w', indicating black-sounding and white-sounding. The column 'call' has two values, 1 and 0, indicating whether the resume received a call from employers or not.\n",
    "\n",
    "Note that the 'b' and 'w' values in race are assigned randomly to the resumes when presented to the employer."
   ]
  },
  {
   "cell_type": "markdown",
   "metadata": {},
   "source": [
    "### Exercises\n",
    "You will perform a statistical analysis to establish whether race has a significant impact on the rate of callbacks for resumes.\n",
    "\n",
    "Answer the following questions **in this notebook below and submit to your Github account**. \n",
    "\n",
    "   1. What test is appropriate for this problem? Does CLT apply?\n",
    "   2. What are the null and alternate hypotheses?\n",
    "   3. Compute margin of error, confidence interval, and p-value. Try using both the bootstrapping and the frequentist statistical approaches.\n",
    "   4. Write a story describing the statistical significance in the context or the original problem.\n",
    "   5. Does your analysis mean that race/name is the most important factor in callback success? Why or why not? If not, how would you amend your analysis?\n",
    "\n",
    "You can include written notes in notebook cells using Markdown: \n",
    "   - In the control panel at the top, choose Cell > Cell Type > Markdown\n",
    "   - Markdown syntax: http://nestacms.com/docs/creating-content/markdown-cheat-sheet\n",
    "\n",
    "#### Resources\n",
    "+ Experiment information and data source: http://www.povertyactionlab.org/evaluation/discrimination-job-market-united-states\n",
    "+ Scipy statistical methods: http://docs.scipy.org/doc/scipy/reference/stats.html \n",
    "+ Markdown syntax: http://nestacms.com/docs/creating-content/markdown-cheat-sheet\n",
    "+ Formulas for the Bernoulli distribution: https://en.wikipedia.org/wiki/Bernoulli_distribution"
   ]
  },
  {
   "cell_type": "code",
   "execution_count": 1,
   "metadata": {},
   "outputs": [],
   "source": [
    "%matplotlib inline\n",
    "import matplotlib.pyplot as plt\n",
    "import numpy as np\n",
    "import pandas as pd\n",
    "import scipy.stats as stats\n",
    "import seaborn as sns"
   ]
  },
  {
   "cell_type": "code",
   "execution_count": 2,
   "metadata": {},
   "outputs": [],
   "source": [
    "data = pd.io.stata.read_stata('data/us_job_market_discrimination.dta')"
   ]
  },
  {
   "cell_type": "code",
   "execution_count": 3,
   "metadata": {},
   "outputs": [
    {
     "data": {
      "text/plain": [
       "157.0"
      ]
     },
     "execution_count": 3,
     "metadata": {},
     "output_type": "execute_result"
    }
   ],
   "source": [
    "# number of callbacks for black-sounding names\n",
    "sum(data[data.race=='b'].call)"
   ]
  },
  {
   "cell_type": "code",
   "execution_count": 4,
   "metadata": {
    "scrolled": true
   },
   "outputs": [
    {
     "data": {
      "text/html": [
       "<div>\n",
       "<style scoped>\n",
       "    .dataframe tbody tr th:only-of-type {\n",
       "        vertical-align: middle;\n",
       "    }\n",
       "\n",
       "    .dataframe tbody tr th {\n",
       "        vertical-align: top;\n",
       "    }\n",
       "\n",
       "    .dataframe thead th {\n",
       "        text-align: right;\n",
       "    }\n",
       "</style>\n",
       "<table border=\"1\" class=\"dataframe\">\n",
       "  <thead>\n",
       "    <tr style=\"text-align: right;\">\n",
       "      <th></th>\n",
       "      <th>id</th>\n",
       "      <th>ad</th>\n",
       "      <th>education</th>\n",
       "      <th>ofjobs</th>\n",
       "      <th>yearsexp</th>\n",
       "      <th>honors</th>\n",
       "      <th>volunteer</th>\n",
       "      <th>military</th>\n",
       "      <th>empholes</th>\n",
       "      <th>occupspecific</th>\n",
       "      <th>...</th>\n",
       "      <th>compreq</th>\n",
       "      <th>orgreq</th>\n",
       "      <th>manuf</th>\n",
       "      <th>transcom</th>\n",
       "      <th>bankreal</th>\n",
       "      <th>trade</th>\n",
       "      <th>busservice</th>\n",
       "      <th>othservice</th>\n",
       "      <th>missind</th>\n",
       "      <th>ownership</th>\n",
       "    </tr>\n",
       "  </thead>\n",
       "  <tbody>\n",
       "    <tr>\n",
       "      <th>0</th>\n",
       "      <td>b</td>\n",
       "      <td>1</td>\n",
       "      <td>4</td>\n",
       "      <td>2</td>\n",
       "      <td>6</td>\n",
       "      <td>0</td>\n",
       "      <td>0</td>\n",
       "      <td>0</td>\n",
       "      <td>1</td>\n",
       "      <td>17</td>\n",
       "      <td>...</td>\n",
       "      <td>1.0</td>\n",
       "      <td>0.0</td>\n",
       "      <td>1.0</td>\n",
       "      <td>0.0</td>\n",
       "      <td>0.0</td>\n",
       "      <td>0.0</td>\n",
       "      <td>0.0</td>\n",
       "      <td>0.0</td>\n",
       "      <td>0.0</td>\n",
       "      <td></td>\n",
       "    </tr>\n",
       "    <tr>\n",
       "      <th>1</th>\n",
       "      <td>b</td>\n",
       "      <td>1</td>\n",
       "      <td>3</td>\n",
       "      <td>3</td>\n",
       "      <td>6</td>\n",
       "      <td>0</td>\n",
       "      <td>1</td>\n",
       "      <td>1</td>\n",
       "      <td>0</td>\n",
       "      <td>316</td>\n",
       "      <td>...</td>\n",
       "      <td>1.0</td>\n",
       "      <td>0.0</td>\n",
       "      <td>1.0</td>\n",
       "      <td>0.0</td>\n",
       "      <td>0.0</td>\n",
       "      <td>0.0</td>\n",
       "      <td>0.0</td>\n",
       "      <td>0.0</td>\n",
       "      <td>0.0</td>\n",
       "      <td></td>\n",
       "    </tr>\n",
       "    <tr>\n",
       "      <th>2</th>\n",
       "      <td>b</td>\n",
       "      <td>1</td>\n",
       "      <td>4</td>\n",
       "      <td>1</td>\n",
       "      <td>6</td>\n",
       "      <td>0</td>\n",
       "      <td>0</td>\n",
       "      <td>0</td>\n",
       "      <td>0</td>\n",
       "      <td>19</td>\n",
       "      <td>...</td>\n",
       "      <td>1.0</td>\n",
       "      <td>0.0</td>\n",
       "      <td>1.0</td>\n",
       "      <td>0.0</td>\n",
       "      <td>0.0</td>\n",
       "      <td>0.0</td>\n",
       "      <td>0.0</td>\n",
       "      <td>0.0</td>\n",
       "      <td>0.0</td>\n",
       "      <td></td>\n",
       "    </tr>\n",
       "    <tr>\n",
       "      <th>3</th>\n",
       "      <td>b</td>\n",
       "      <td>1</td>\n",
       "      <td>3</td>\n",
       "      <td>4</td>\n",
       "      <td>6</td>\n",
       "      <td>0</td>\n",
       "      <td>1</td>\n",
       "      <td>0</td>\n",
       "      <td>1</td>\n",
       "      <td>313</td>\n",
       "      <td>...</td>\n",
       "      <td>1.0</td>\n",
       "      <td>0.0</td>\n",
       "      <td>1.0</td>\n",
       "      <td>0.0</td>\n",
       "      <td>0.0</td>\n",
       "      <td>0.0</td>\n",
       "      <td>0.0</td>\n",
       "      <td>0.0</td>\n",
       "      <td>0.0</td>\n",
       "      <td></td>\n",
       "    </tr>\n",
       "    <tr>\n",
       "      <th>4</th>\n",
       "      <td>b</td>\n",
       "      <td>1</td>\n",
       "      <td>3</td>\n",
       "      <td>3</td>\n",
       "      <td>22</td>\n",
       "      <td>0</td>\n",
       "      <td>0</td>\n",
       "      <td>0</td>\n",
       "      <td>0</td>\n",
       "      <td>313</td>\n",
       "      <td>...</td>\n",
       "      <td>1.0</td>\n",
       "      <td>1.0</td>\n",
       "      <td>0.0</td>\n",
       "      <td>0.0</td>\n",
       "      <td>0.0</td>\n",
       "      <td>0.0</td>\n",
       "      <td>0.0</td>\n",
       "      <td>1.0</td>\n",
       "      <td>0.0</td>\n",
       "      <td>Nonprofit</td>\n",
       "    </tr>\n",
       "  </tbody>\n",
       "</table>\n",
       "<p>5 rows × 65 columns</p>\n",
       "</div>"
      ],
      "text/plain": [
       "  id ad  education  ofjobs  yearsexp  honors  volunteer  military  empholes  \\\n",
       "0  b  1          4       2         6       0          0         0         1   \n",
       "1  b  1          3       3         6       0          1         1         0   \n",
       "2  b  1          4       1         6       0          0         0         0   \n",
       "3  b  1          3       4         6       0          1         0         1   \n",
       "4  b  1          3       3        22       0          0         0         0   \n",
       "\n",
       "   occupspecific    ...      compreq  orgreq  manuf  transcom  bankreal trade  \\\n",
       "0             17    ...          1.0     0.0    1.0       0.0       0.0   0.0   \n",
       "1            316    ...          1.0     0.0    1.0       0.0       0.0   0.0   \n",
       "2             19    ...          1.0     0.0    1.0       0.0       0.0   0.0   \n",
       "3            313    ...          1.0     0.0    1.0       0.0       0.0   0.0   \n",
       "4            313    ...          1.0     1.0    0.0       0.0       0.0   0.0   \n",
       "\n",
       "  busservice othservice  missind  ownership  \n",
       "0        0.0        0.0      0.0             \n",
       "1        0.0        0.0      0.0             \n",
       "2        0.0        0.0      0.0             \n",
       "3        0.0        0.0      0.0             \n",
       "4        0.0        1.0      0.0  Nonprofit  \n",
       "\n",
       "[5 rows x 65 columns]"
      ]
     },
     "execution_count": 4,
     "metadata": {},
     "output_type": "execute_result"
    }
   ],
   "source": [
    "data.head()"
   ]
  },
  {
   "cell_type": "code",
   "execution_count": 5,
   "metadata": {},
   "outputs": [
    {
     "data": {
      "text/plain": [
       "392.0"
      ]
     },
     "execution_count": 5,
     "metadata": {},
     "output_type": "execute_result"
    }
   ],
   "source": [
    "data.shape\n",
    "sum(data.call)"
   ]
  },
  {
   "cell_type": "code",
   "execution_count": 6,
   "metadata": {},
   "outputs": [],
   "source": [
    "# Set up the appearance of the plots\n",
    "sns.set()\n",
    "\n",
    "# Seed np.random\n",
    "np.random.seed(42)\n",
    "\n",
    "# Set up a cdf function to quickly see distributions.\n",
    "def ecdf(data):\n",
    "    '''Compute continuous distribution function for one column'''\n",
    "    n = len(data)\n",
    "    x = np.sort(data)\n",
    "    y = np.arange(1, n+1) / n\n",
    "    return x, y\n",
    "\n",
    "# Set up a function to generate bootstrap replicates\n",
    "def bs_reps(data, func, size=1):\n",
    "    '''Draw boostrap replicates'''\n",
    "    # Initialize empty array\n",
    "    bs_replicates = np.empty(size)\n",
    "    # Generate replicates\n",
    "    for i in range(size):\n",
    "        bs_replicates[i] = func(np.random.choice(data, size=len(data)))\n",
    "    return bs_replicates\n",
    "\n",
    "# Set up a function to permute data sets\n",
    "def permutation_sample(data1, data2):\n",
    "    '''Generate a permuted sample from two data sets'''\n",
    "    # Concatenate the data sets\n",
    "    data = np.concatenate((data1, data2))\n",
    "    # Permute the concatenated array\n",
    "    permuted_data = np.random.permutation(data)\n",
    "    # Split the permuted data back into two data sets\n",
    "    perm_sample_1 = permuted_data[:len(data1)]\n",
    "    perm_sample_2 = permuted_data[len(data1):]\n",
    "    return perm_sample_1, perm_sample_2\n",
    "\n",
    "# Set up a function to generate permutation replicates\n",
    "def draw_perm_reps(data1, data2, func, size=1):\n",
    "    '''Draw permutation replicates'''\n",
    "    # Initialize empty array of proper size\n",
    "    perm_replicates = np.empty(size)\n",
    "    for i in range(size):\n",
    "        # Generate permutation sample\n",
    "        perm_sample_1, perm_sample_2 = permutation_sample(data1, data2)\n",
    "        # Compute the test statistic\n",
    "        perm_replicates[i] = func(perm_sample_1, perm_sample_2)\n",
    "    return perm_replicates\n",
    "\n",
    "# Set up a function to calculate differences of means\n",
    "def diff_of_means(data1, data2):\n",
    "    '''Calculate difference of means of two arrays'''\n",
    "    diff = np.mean(data1) - np.mean(data2)\n",
    "    return diff"
   ]
  },
  {
   "cell_type": "markdown",
   "metadata": {
    "collapsed": true
   },
   "source": [
    "<div class=\"span5 alert alert-success\">\n",
    "<p>Your answers to Q1 and Q2 here</p>\n",
    "</div>\n",
    "\n",
    "### 1.  What test is appropriate for this problem? Does CLT apply?\n",
    "\n",
    "This is a difference of proportions.  A two-tailed z-test will be used.\n",
    "\n",
    "CLT applies to this dataset:\n",
    "* Random:  We will trust the question, as it states that the assignments to the sample are random.\n",
    "* Independent:  The occurrence of one row entry has no influence on the next row, and the sample can be assumed to be less than 10% of any of the US adult population BLS statistics.  (Approx. 330m US adults, approx. 129m full-time adult workers, approx. 5m unemployed US adults actively seeking work, etc.)\n",
    "* Size:  The sample is sufficiently large at 4870 rows.\n",
    "\n",
    "### 2.  What are the null and alternate hypotheses?\n",
    "\n",
    "* H0: proportion of black-sounding callbacks equals proportion of white-sounding callbacks  (w.call == b.call, or racial bias doesn't exist)\n",
    "* Ha: proportions are not equal  (w.call != b.call, or racial bias exists)\n",
    "* alpha = .05"
   ]
  },
  {
   "cell_type": "code",
   "execution_count": 7,
   "metadata": {},
   "outputs": [
    {
     "name": "stdout",
     "output_type": "stream",
     "text": [
      "8.0493 - percent of sample receives a call\n",
      "9.6509 - percent of white-sounding sample receives a call ( 235.0 )\n",
      "6.4476 - percent of black-sounding sample receives a call ( 157.0 )\n",
      "3.2033 - percent difference of means of callbacks in the sample\n"
     ]
    }
   ],
   "source": [
    "w = data.loc[data.race=='w']\n",
    "b = data.loc[data.race=='b']\n",
    "\n",
    "# Get some basic info on the sample data\n",
    "callbacks = np.mean(data.call)\n",
    "callbacks_w = np.mean(w.call)\n",
    "callbacks_b = np.mean(b.call)\n",
    "observed_diff = diff_of_means(callbacks_w, callbacks_b)\n",
    "print('{:.4f}'.format(callbacks*100), '- percent of sample receives a call')\n",
    "print('{:.4f}'.format(callbacks_w*100), '- percent of white-sounding sample receives a call (', np.sum(w.call), ')')\n",
    "print('{:.4f}'.format(callbacks_b*100), '- percent of black-sounding sample receives a call (', np.sum(b.call), ')')\n",
    "print('{:.4f}'.format(observed_diff*100), '- percent difference of means of callbacks in the sample')"
   ]
  },
  {
   "cell_type": "code",
   "execution_count": 8,
   "metadata": {},
   "outputs": [
    {
     "data": {
      "image/png": "[encoded data removed]",
      "text/plain": [
       "<Figure size 432x288 with 1 Axes>"
      ]
     },
     "metadata": {},
     "output_type": "display_data"
    }
   ],
   "source": [
    "# Check the separate cdfs of the expected successes, binomial distribution only used to generate a curve\n",
    "samples_w = np.random.binomial(len(w), callbacks_w, 10000)\n",
    "xw, yw = ecdf(samples_w)\n",
    "samples_b = np.random.binomial(len(b), callbacks_b, 10000)\n",
    "xb, yb = ecdf(samples_b)\n",
    "mid50_w = np.percentile(samples_w, 50)\n",
    "mid50_b = np.percentile(samples_b, 50)\n",
    "\n",
    "# Make pretty plots\n",
    "_ = plt.plot(xb, yb, marker='.', linestyle='none', color='green')\n",
    "_ = plt.plot(xw, yw, marker='.', linestyle='none', color='gray')\n",
    "_ = plt.xlabel('Number of successes per trial')\n",
    "_ = plt.ylabel('Probability')\n",
    "_ = plt.legend(('Black-sounding', 'White-sounding'))\n",
    "_ = plt.title('Distribution of callbacks in 10,000 trials \\n based on name characteristics')\n",
    "_ = plt.plot(mid50_w, .5, marker='P', color='purple', markersize=15)\n",
    "_ = plt.plot(mid50_b, .5, marker='X', color='black', markersize=15)\n",
    "_ = plt.text(x=mid50_w+8, y=.45, s='WS median 235')\n",
    "_ = plt.text(x=mid50_b+8, y=.45, s='BS median 157')"
   ]
  },
  {
   "cell_type": "markdown",
   "metadata": {
    "collapsed": true
   },
   "source": [
    "<div class=\"span5 alert alert-success\">\n",
    "<p>Your answer to Q3 here</p>\n",
    "</div>\n",
    "\n",
    "### 3.  Compute margin of error, confidence interval, and p-value. Try using both the bootstrapping and the frequentist statistical approaches.\n",
    "\n",
    "* The margin of error is 0.0152551 (1.53%)\n",
    "* The expected difference in callbacks between black-sounding and white-sounding names is 1.68% to 4.73%, much higher than the H0 of 0%.  (95% confidence interval is 0.01678 to 0.04729.)\n",
    "* The p-value is 3.983886904990186e-05 (0.0000398, very low, reject H0)\n",
    "* The bootstrap replicates produced zero instances of a difference of means equal to or larger than the observed difference of 3.20%."
   ]
  },
  {
   "cell_type": "code",
   "execution_count": 9,
   "metadata": {},
   "outputs": [
    {
     "name": "stdout",
     "output_type": "stream",
     "text": [
      "The margin of error is 0.0152551 ( 1.53 percent )\n",
      "The 95% confidence interval is 0.0167777 to 0.0472880 ( 1.68 to 4.73 percent difference )\n",
      "The p-value is 3.983886904990186e-05 ( 0.0000398 )\n"
     ]
    }
   ],
   "source": [
    "# Difference of proportion z-test, 2-tailed test\n",
    "\n",
    "#callbacks, callbacks_w, callbacks_b = proportions\n",
    "#observed_diff = difference between callbacks_w, callbacks_b\n",
    "\n",
    "n_b = len(b.call)\n",
    "n_w = len(w.call)\n",
    "cb = callbacks\n",
    "\n",
    "cb_p = cb*(1-cb)\n",
    "cb_pb = callbacks_b*(1-callbacks_b)\n",
    "cb_pw = callbacks_w*(1-callbacks_w)\n",
    "\n",
    "tail = 2\n",
    "\n",
    "z = observed_diff / np.sqrt(cb_p*((1/n_b)+(1/n_w)))\n",
    "z_crit = stats.norm.ppf(.975)\n",
    "moe = z_crit*np.sqrt((cb_pb/n_b)+(cb_pw/n_w))\n",
    "ci_high = observed_diff + moe\n",
    "ci_low = observed_diff - moe\n",
    "z_pval = (1-stats.norm.cdf(z))*tail\n",
    "\n",
    "print('The margin of error is', '{:.7f}'.format(moe), '(', '{:.2f}'.format(moe*100), 'percent )')\n",
    "print('The 95% confidence interval is', '{:.7f}'.format(ci_low), 'to', '{:.7f}'.format(ci_high), '(','{:.2f}'.format(ci_low*100), 'to', '{:.2f}'.format(ci_high*100), 'percent difference )')\n",
    "print('The p-value is', z_pval, '(', '{:.7f}'.format(z_pval), ')')"
   ]
  },
  {
   "cell_type": "code",
   "execution_count": 10,
   "metadata": {
    "scrolled": true
   },
   "outputs": [
    {
     "name": "stdout",
     "output_type": "stream",
     "text": [
      "p-value of bootstraped replicates: 0.0 (below .05, reject H0, proportions of callbacks are NOT equal)\n",
      "95% confidence interval for percent of population to receive calls:     7.2851 to 8.8134\n",
      "95% confidence interval for percent of white-sounding to receive calls: 8.4778 to 10.8240\n",
      "95% confidence interval for percent of black-sounding to receive calls: 5.4719 to 7.4233\n"
     ]
    }
   ],
   "source": [
    "# Bootstrap calculations (individual populations and permutations)\n",
    "\n",
    "# Get several bootstrap replicates of proportion to receive calls\n",
    "bs_replicates_w = bs_reps(w.call, np.mean, 10000)\n",
    "bs_replicates_b = bs_reps(b.call, np.mean, 10000)\n",
    "\n",
    "# Get the confidence intervals\n",
    "ci = stats.norm.interval(0.95, loc=np.mean(data.call), scale=stats.sem(data.call))\n",
    "ci_w = stats.norm.interval(0.95, loc=np.mean(w.call), scale=stats.sem(w.call))\n",
    "ci_b = stats.norm.interval(0.95, loc=np.mean(b.call), scale=stats.sem(b.call))\n",
    "\n",
    "# Use the call info to create permutation replicates of the difference of means\n",
    "perm_replicates = draw_perm_reps(w.call, b.call, diff_of_means, 10000)\n",
    "\n",
    "# Calculate p-value and confidence interval \n",
    "p = np.sum(perm_replicates >= observed_diff) / len(perm_replicates)\n",
    "\n",
    "# Print the results\n",
    "print('p-value of bootstraped replicates:', p, '(below .05, reject H0, proportions of callbacks are NOT equal)')\n",
    "print('95% confidence interval for percent of population to receive calls:    ','{:.4f}'.format(ci[0]*100),'to','{:.4f}'.format(ci[1]*100))\n",
    "print('95% confidence interval for percent of white-sounding to receive calls:','{:.4f}'.format(ci_w[0]*100),'to','{:.4f}'.format(ci_w[1]*100))\n",
    "print('95% confidence interval for percent of black-sounding to receive calls:','{:.4f}'.format(ci_b[0]*100),'to','{:.4f}'.format(ci_b[1]*100))"
   ]
  },
  {
   "cell_type": "code",
   "execution_count": 11,
   "metadata": {},
   "outputs": [
    {
     "data": {
      "image/png": "[encoded data removed]",
      "text/plain": [
       "<Figure size 432x288 with 1 Axes>"
      ]
     },
     "metadata": {},
     "output_type": "display_data"
    }
   ],
   "source": [
    "bs_replicates_b_ = bs_replicates_b*100\n",
    "bs_replicates_w_ = bs_replicates_w*100\n",
    "xb, yb = ecdf(bs_replicates_b_)\n",
    "xw, yw = ecdf(bs_replicates_w_)\n",
    "\n",
    "# Make pretty plots\n",
    "_ = plt.plot(xb, yb, marker='.', linestyle='none', color='green')\n",
    "_ = plt.plot(xw, yw, marker='.', linestyle='none', color='gray')\n",
    "_ = plt.xlabel('Percent receiving calls for interviews')\n",
    "_ = plt.ylabel('Probability')\n",
    "_ = plt.legend(('Black-sounding (bs)', 'White-sounding (bs)'))\n",
    "_ = plt.title('Distribution of callbacks in 10,000 bootstrap trials \\n based on name characteristics')\n",
    "_ = plt.axhline(.5, color='black')\n",
    "_ = plt.text(x=6.7, y=.55, s='(50% probability line)')"
   ]
  },
  {
   "cell_type": "markdown",
   "metadata": {},
   "source": [
    "<div class=\"span5 alert alert-success\">\n",
    "<p> Your answers to Q4 and Q5 here </p>\n",
    "</div>\n",
    "\n",
    "### 4.  Write a story describing the statistical significance in the context or the original problem.\n",
    "\n",
    "When researchers sent identical resumes out, they received a higher number of callbacks for interviews for those sent out under white-sounding names.  After graphical and numerical analysis, we have discovered that this higher number is statistically significant in both frequentist and bootstrap testing.  We reject the null hypothesis that there is no racial bias in favor of the alternate hypothesis, that racial bias exists.\n",
    "\n",
    "### 5.  Does your analysis mean that race/name is the most important factor in callback success? Why or why not? If not, how would you amend your analysis?\n",
    "\n",
    "The race assumed from the name certainly appears to have an effect on the rate of callbacks -- we rejected H0, the hypothesis that there is no difference in the rates -- but didn't test for any other factor.  The dataset authors claim to have eliminated bias, and we have no other data from which to work.\n",
    "\n",
    "Other factors that could exist in a similar real-world dataset include years of experience, level of education (and tier of school), additional certifications or honors, the number and length of previous positions (including volunteer and military), gaps in work history, previous titles, and employment in related industries, just to start."
   ]
  }
 ],
 "metadata": {
  "kernelspec": {
   "display_name": "Python 3",
   "language": "python",
   "name": "python3"
  },
  "language_info": {
   "codemirror_mode": {
    "name": "ipython",
    "version": 3
   },
   "file_extension": ".py",
   "mimetype": "text/x-python",
   "name": "python",
   "nbconvert_exporter": "python",
   "pygments_lexer": "ipython3",
   "version": "3.7.2"
  }
 },
 "nbformat": 4,
 "nbformat_minor": 1
}
