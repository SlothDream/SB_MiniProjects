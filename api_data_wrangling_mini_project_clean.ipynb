{
 "cells": [
  {
   "cell_type": "markdown",
   "metadata": {},
   "source": [
    "This exercise will require you to pull some data from the Qunadl API. Qaundl is currently the most widely used aggregator of financial market data."
   ]
  },
  {
   "cell_type": "markdown",
   "metadata": {},
   "source": [
    "As a first step, you will need to register a free account on the http://www.quandl.com website."
   ]
  },
  {
   "cell_type": "markdown",
   "metadata": {},
   "source": [
    "After you register, you will be provided with a unique API key, that you should store:"
   ]
  },
  {
   "cell_type": "code",
   "execution_count": 1,
   "metadata": {},
   "outputs": [],
   "source": [
    "# Store the API key as a string - according to PEP8, constants are always named in all upper case\n",
    "API_KEY = '...'"
   ]
  },
  {
   "cell_type": "markdown",
   "metadata": {},
   "source": [
    "Qaundl has a large number of data sources, but, unfortunately, most of them require a Premium subscription. Still, there are also a good number of free datasets."
   ]
  },
  {
   "cell_type": "markdown",
   "metadata": {},
   "source": [
    "For this mini project, we will focus on equities data from the Frankfurt Stock Exhange (FSE), which is available for free. We'll try and analyze the stock prices of a company called Carl Zeiss Meditec, which manufactures tools for eye examinations, as well as medical lasers for laser eye surgery: https://www.zeiss.com/meditec/int/home.html. The company is listed under the stock ticker AFX_X."
   ]
  },
  {
   "cell_type": "markdown",
   "metadata": {},
   "source": [
    "You can find the detailed Quandl API instructions here: https://docs.quandl.com/docs/time-series"
   ]
  },
  {
   "cell_type": "markdown",
   "metadata": {},
   "source": [
    "While there is a dedicated Python package for connecting to the Quandl API, we would prefer that you use the *requests* package, which can be easily downloaded using *pip* or *conda*. You can find the documentation for the package here: http://docs.python-requests.org/en/master/ "
   ]
  },
  {
   "cell_type": "markdown",
   "metadata": {},
   "source": [
    "Finally, apart from the *requests* package, you are encouraged to not use any third party Python packages, such as *pandas*, and instead focus on what's available in the Python Standard Library (the *collections* module might come in handy: https://pymotw.com/3/collections/).\n",
    "Also, since you won't have access to DataFrames, you are encouraged to us Python's native data structures - preferably dictionaries, though some questions can also be answered using lists.\n",
    "You can read more on these data structures here: https://docs.python.org/3/tutorial/datastructures.html"
   ]
  },
  {
   "cell_type": "markdown",
   "metadata": {},
   "source": [
    "Keep in mind that the JSON responses you will be getting from the API map almost one-to-one to Python's dictionaries. Unfortunately, they can be very nested, so make sure you read up on indexing dictionaries in the documentation provided above."
   ]
  },
  {
   "cell_type": "code",
   "execution_count": 2,
   "metadata": {},
   "outputs": [],
   "source": [
    "# First, import the relevant modules\n",
    "import requests\n",
    "import json\n",
    "import pprint"
   ]
  },
  {
   "cell_type": "code",
   "execution_count": 3,
   "metadata": {},
   "outputs": [],
   "source": [
    "# Now, call the Quandl API and pull out a small sample of the data (only one day) to get a glimpse\n",
    "# into the JSON structure that will be returned\n",
    "link = 'https://www.quandl.com/api/v3/datasets/FSE/AFX_X?start_date=2018-12-06&end_date=2018-12-06&api_key=' + API_KEY\n",
    "r = requests.get(link)"
   ]
  },
  {
   "cell_type": "code",
   "execution_count": 4,
   "metadata": {},
   "outputs": [
    {
     "data": {
      "text/plain": [
       "{'dataset': {'id': 10095370,\n",
       "  'dataset_code': 'AFX_X',\n",
       "  'database_code': 'FSE',\n",
       "  'name': 'Carl Zeiss Meditec (AFX_X)',\n",
       "  'description': 'Stock Prices for Carl Zeiss Meditec (AFX) from the Frankfurt Stock Exchange.<br><br>Trading System: Xetra<br><br>ISIN: DE0005313704',\n",
       "  'refreshed_at': '2018-12-14T22:31:00.262Z',\n",
       "  'newest_available_date': '2018-12-14',\n",
       "  'oldest_available_date': '2000-06-07',\n",
       "  'column_names': ['Date',\n",
       "   'Open',\n",
       "   'High',\n",
       "   'Low',\n",
       "   'Close',\n",
       "   'Change',\n",
       "   'Traded Volume',\n",
       "   'Turnover',\n",
       "   'Last Price of the Day',\n",
       "   'Daily Traded Units',\n",
       "   'Daily Turnover'],\n",
       "  'frequency': 'daily',\n",
       "  'type': 'Time Series',\n",
       "  'premium': False,\n",
       "  'limit': None,\n",
       "  'transform': None,\n",
       "  'column_index': None,\n",
       "  'start_date': '2018-12-06',\n",
       "  'end_date': '2018-12-06',\n",
       "  'data': [['2018-12-06',\n",
       "    None,\n",
       "    66.3,\n",
       "    64.65,\n",
       "    66.1,\n",
       "    None,\n",
       "    None,\n",
       "    None,\n",
       "    None,\n",
       "    None,\n",
       "    None]],\n",
       "  'collapse': None,\n",
       "  'order': None,\n",
       "  'database_id': 6129}}"
      ]
     },
     "execution_count": 4,
     "metadata": {},
     "output_type": "execute_result"
    }
   ],
   "source": [
    "# Inspect the JSON structure of the object you created, and take note of how nested it is,\n",
    "# as well as the overall structure\n",
    "r.json()"
   ]
  },
  {
   "cell_type": "markdown",
   "metadata": {},
   "source": [
    "These are your tasks for this mini project:\n",
    "\n",
    "1. Collect data from the Franfurt Stock Exchange, for the ticker AFX_X, for the whole year 2017 (keep in mind that the date format is YYYY-MM-DD).\n",
    "2. Convert the returned JSON object into a Python dictionary.\n",
    "3. Calculate what the highest and lowest opening prices were for the stock in this period.\n",
    "4. What was the largest change in any one day (based on High and Low price)?\n",
    "5. What was the largest change between any two days (based on Closing Price)?\n",
    "6. What was the average daily trading volume during this year?\n",
    "7. (Optional) What was the median trading volume during this year. (Note: you may need to implement your own function for calculating the median.)"
   ]
  },
  {
   "cell_type": "markdown",
   "metadata": {},
   "source": [
    "# 1.  Collect data from the Frankfurt Stock Exchange, for the ticker AFX_X, for the whole year 2017 (keep in mind that the date format is YYYY-MM-DD).\n",
    "# 2. Convert the returned JSON object into a Python dictionary."
   ]
  },
  {
   "cell_type": "code",
   "execution_count": 5,
   "metadata": {},
   "outputs": [
    {
     "name": "stdout",
     "output_type": "stream",
     "text": [
      "stock_dict = <class 'dict'>\n",
      "\n",
      "{'id': 10095370, 'dataset_code': 'AFX_X', 'database_code': 'FSE', 'name': 'Carl Zeiss Meditec (AFX_X)', 'description': 'Stock Prices for Carl Zeiss Meditec (AFX) from the Frankfurt Stock Exchange.<br><br>Trading System: Xetra<br><br>ISIN: DE0005313704', 'refreshed_at': '2018-12-14T22:31:00.262Z', 'newest_available_date': '2018-12-14', 'oldest_available_date': '2000-06-07', 'column_names': ['Date', 'Open', 'High', 'Low', 'Close', 'Change', 'Traded Volume', 'Turnover', 'Last Price of the Day', 'Daily Traded Units', 'Daily Turnover'], 'frequency': 'daily', 'type': 'Time Series', 'premium': False, 'limit': None, 'transform': None, 'column_index': None, 'start_date': '2017-01-01', 'end_date': '2017-12-31'}\n"
     ]
    }
   ],
   "source": [
    "# Download one year of data from URL and read to dict from json object.\n",
    "stock = 'https://www.quandl.com/api/v3/datasets/FSE/AFX_X?start_date=2017-01-01&end_date=2017-12-31&api_key=' + API_KEY\n",
    "request = requests.get(stock)\n",
    "stock_dict = request.json()\n",
    "print('stock_dict =', type(stock_dict))\n",
    "print()\n",
    " \n",
    "# Print enough to verify that json has been read in as a dict without overwhelming\n",
    "# screen with the 'data' values.  At this point, only key 'dataset' from original\n",
    "# dict matters, so all calls will now use this key.  Plus, this is the only way to \n",
    "# print a reasonable view due to the size of stock_dict['dataset']['data'].\n",
    "print(dict(list(stock_dict['dataset'].items())[:17]))"
   ]
  },
  {
   "cell_type": "markdown",
   "metadata": {},
   "source": [
    "# 3. Calculate what the highest and lowest opening prices were for the stock in this period."
   ]
  },
  {
   "cell_type": "code",
   "execution_count": 6,
   "metadata": {},
   "outputs": [
    {
     "name": "stdout",
     "output_type": "stream",
     "text": [
      "COLUMN_NAMES is list\n",
      "            column_names : ['Date', 'Open', 'High', 'Low', 'Close', 'Change', 'Traded Volume', 'Turnover', 'Last Price of the Day', 'Daily Traded Units', 'Daily Turnover']\n",
      "DATA is list\n",
      "            data : [['2017-12-29', 51.76, 51.94, 51.45, 51.76, None, 34640.0, 1792304.0, None, None, None], ['2017-12-28', 51.65, 51.82, 51.43, 51.6, None, 40660.0, 2099024.0, None, None, None], ['2017-12-27', 51.45, 51.89, 50.76, 51.82, None, 57452.0, 2957018.0, None, None, None], ['2017-12-22', 51.05, 51.5, 50.92, 51.32, None, 71165.0, 3641949.0, None, None, None], ['2017-12-21', 51.16, 51.52, 50.9, 51.4, None, 120649.0, 6179433.0, None, None, None], ['2017-12-20', 51.88, 52.04, 51.2, 51.27, None, 50587.0, 2610258.0, None, None, None], ['2017-12-19', 52.73, 52.73, 51.07, 51.66, None, 137313.0, 7102361.0, None, None, None], ['2017-12-18', 52.37, 52.75, 51.61, 52.62, None, 129733.0, 6770499.0, None, None, None], ['2017-12-15', 52.7, 52.7, 51.64, 52.01, None, 204080.0, 10596319.0, None, None, None], ['2017-12-14', 53.11, 53.54, 52.15, 52.67, None, 132981.0, 7016953.0, None, None, None], ['2017-12-13', 52.64, 53.35, 52.48, 53.09, None, 128434.0, 6801159.0, None, None, None]]\n"
     ]
    }
   ],
   "source": [
    "# Determine where the necessary data is stored by scanning the dict for lists and\n",
    "# print out examples of the lists to verify their structure.  (11 is the number of\n",
    "# keys in 'column_names'.)\n",
    "data = stock_dict['dataset']\n",
    "for k, v in data.items():\n",
    "    if type(v) == list:\n",
    "        print(str.upper(k), 'is list')\n",
    "        print('           ',k,':',v[:11])"
   ]
  },
  {
   "cell_type": "code",
   "execution_count": 7,
   "metadata": {},
   "outputs": [
    {
     "name": "stdout",
     "output_type": "stream",
     "text": [
      "Maximum opening price for 2017: $53.11 on 2017-12-14\n",
      "Minimum opening price for 2017: $34.00 on 2017-01-24\n"
     ]
    }
   ],
   "source": [
    "# Create a dict of the date and the opening price for that date.  'None' is \n",
    "# excluded as it isn't a real minimum price.\n",
    "open_price = [o_price[1] for o_price in data['data'] if o_price[1] is not None]\n",
    "open_date = [o_price[0] for o_price in data['data'] if o_price[1] is not None]\n",
    "open_dict = dict(zip(open_date, open_price))\n",
    "\n",
    "# Print out the max/min opening prices and associated dates.\n",
    "print('Maximum opening price for 2017:', '${:.2f}'.format(max(open_dict.values())), \n",
    "      'on', max(open_dict, key=open_dict.get))\n",
    "print('Minimum opening price for 2017:', '${:.2f}'.format(min(open_dict.values())), \n",
    "      'on', min(open_dict, key=open_dict.get))"
   ]
  },
  {
   "cell_type": "markdown",
   "metadata": {},
   "source": [
    "# 4. What was the largest change in any one day (based on High and Low price)?"
   ]
  },
  {
   "cell_type": "code",
   "execution_count": 8,
   "metadata": {},
   "outputs": [
    {
     "name": "stdout",
     "output_type": "stream",
     "text": [
      "Largest one-day change in 2017: $2.81 on 2017-05-11\n"
     ]
    }
   ],
   "source": [
    "# Set up the math and obtain the max value based on the absolute value of the\n",
    "# high and low columns per date.  \n",
    "d = [[abs(row[2] - row[3]), row[0]] for row in data['data']]\n",
    "delta, date = max(d)\n",
    "\n",
    "# Print out the largest one-day change.  Formatting for float used to rationalize view.\n",
    "print('Largest one-day change in 2017:', '${:.2f}'.format(delta), 'on', date)"
   ]
  },
  {
   "cell_type": "markdown",
   "metadata": {},
   "source": [
    "# 5.  What was the largest change between any two days (based on Closing Price)?"
   ]
  },
  {
   "cell_type": "code",
   "execution_count": 9,
   "metadata": {},
   "outputs": [
    {
     "name": "stdout",
     "output_type": "stream",
     "text": [
      "Largest change between two consecutive trading days in 2017: $2.56\n"
     ]
    }
   ],
   "source": [
    "# Set two lists and get the absolute value of the change in consecutive\n",
    "# trading days.  Date not added yet because I'm confused in my time math.\n",
    "closing1 = [row[4] for row in data['data']]\n",
    "closing2 = [row[4] for row in data['data']][1:]\n",
    "delta_c = max([abs(cl1 - cl2) for (cl1, cl2) in zip(closing1, closing2)])\n",
    "print('Largest change between two consecutive trading days in 2017:', '${:.2f}'.format(delta_c))"
   ]
  },
  {
   "cell_type": "markdown",
   "metadata": {},
   "source": [
    "# 6.  What was the average daily trading volume during this year?"
   ]
  },
  {
   "cell_type": "code",
   "execution_count": 10,
   "metadata": {},
   "outputs": [
    {
     "name": "stdout",
     "output_type": "stream",
     "text": [
      "Average daily trading volume (numerical average) in 2017: 89124.3\n",
      "Average daily trading volume (in significant digits) in 2017: 89100\n"
     ]
    }
   ],
   "source": [
    "# I don't think I understand this question.  It's entirely too easy.\n",
    "# Obtain a list of each day's volume.  There were no 'Nones' in this\n",
    "# data, but I wouldn't necessarily want to exclude them as done in Q3.\n",
    "a = [row[6] for row in data['data']]\n",
    "\n",
    "# Calculate average with only the built-in python tools, rounded to \n",
    "# 1 decimal place, since that's how the data came in.  (Although in \n",
    "# the real world, it might be worth it to use int() or round(x, 0).)\n",
    "average = round(sum(a) / len(a), 1)\n",
    "# Future improvement: pull out year as variable instead of hardcoding.\n",
    "print('Average daily trading volume (numerical average) in 2017:', average)\n",
    "\n",
    "# We use significant digits in science.  If sig figs are needed, this \n",
    "# line shows how to provide the number used in rounding.  (Subtract 1 in\n",
    "# len() calculation to remove the decimal place, add 1 in the round()\n",
    "# because 3 means thousands, not 3 sig figs.  I'm not sure that this is \n",
    "# duplicable for other data sets as a reusable function, but it is one of \n",
    "# the ways to address it without using other python packages.)\n",
    "b = min([(len(str(row[6])) - 1) for row in data['data']])\n",
    "average_sig_fig = round(int(sum(a) / len(a)), -b+1)\n",
    "print('Average daily trading volume (in significant digits) in 2017:', average_sig_fig)"
   ]
  },
  {
   "cell_type": "markdown",
   "metadata": {},
   "source": [
    "# 7.  (Optional) What was the median trading volume during this year. (Note: you may need to implement your own function for calculating the median.)"
   ]
  },
  {
   "cell_type": "code",
   "execution_count": 11,
   "metadata": {},
   "outputs": [
    {
     "name": "stdout",
     "output_type": "stream",
     "text": [
      "Median daily trading volume for 2017: 76600.0\n"
     ]
    }
   ],
   "source": [
    "# Reuse list a from above, sort.  Calculate median based on the mod of \n",
    "# len(a).\n",
    "a = sorted(a)\n",
    "number_a = len(a)\n",
    "# Median is the middle value.  If len(a) is even, an average of the two \n",
    "# middles is required (mathematically, length/2 and length/2 + 1).  If \n",
    "# len(a) is odd, the middle number can be considered the int of length/2\n",
    "# and then add 1.  (Same as floor + 1 in math, should be equiv to ceil, \n",
    "# did not test.)\n",
    "if number_a % 2 == 1:\n",
    "    median = a[int(number_a / 2) + 1]\n",
    "elif number_a % 2 == 0:\n",
    "    g = int(number_a / 2)\n",
    "    median = (a[g + 1] + a[g]) / 2\n",
    "print('Median daily trading volume for 2017:', median)"
   ]
  }
 ],
 "metadata": {
  "kernelspec": {
   "display_name": "Python 3",
   "language": "python",
   "name": "python3"
  },
  "language_info": {
   "codemirror_mode": {
    "name": "ipython",
    "version": 3
   },
   "file_extension": ".py",
   "mimetype": "text/x-python",
   "name": "python",
   "nbconvert_exporter": "python",
   "pygments_lexer": "ipython3",
   "version": "3.7.0"
  }
 },
 "nbformat": 4,
 "nbformat_minor": 2
}
