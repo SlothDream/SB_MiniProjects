{
 "cells": [
  {
   "cell_type": "markdown",
   "metadata": {},
   "source": [
    "# What is the True Normal Human Body Temperature? \n",
    "\n",
    "#### Background\n",
    "\n",
    "The mean normal body temperature was held to be 37$^{\\circ}$C or 98.6$^{\\circ}$F for more than 120 years since it was first conceptualized and reported by Carl Wunderlich in a famous 1868 book. But, is this value statistically correct?"
   ]
  },
  {
   "cell_type": "markdown",
   "metadata": {},
   "source": [
    "<h3>Exercises</h3>\n",
    "\n",
    "<p>In this exercise, you will analyze a dataset of human body temperatures and employ the concepts of hypothesis testing, confidence intervals, and statistical significance.</p>\n",
    "\n",
    "<p>Answer the following questions <b>in this notebook below and submit to your Github account</b>.</p> \n",
    "\n",
    "<ol>\n",
    "<li>  Is the distribution of body temperatures normal? \n",
    "    <ul>\n",
    "    <li> Although this is not a requirement for the Central Limit Theorem to hold (read the introduction on Wikipedia's page about the CLT carefully: https://en.wikipedia.org/wiki/Central_limit_theorem), it gives us some peace of mind that the population may also be normally distributed if we assume that this sample is representative of the population.\n",
    "    <li> Think about the way you're going to check for the normality of the distribution. Graphical methods are usually used first, but there are also other ways: https://en.wikipedia.org/wiki/Normality_test\n",
    "    </ul>\n",
    "<li>  Is the sample size large? Are the observations independent?\n",
    "    <ul>\n",
    "    <li> Remember that this is a condition for the Central Limit Theorem, and hence the statistical tests we are using, to apply.\n",
    "    </ul>\n",
    "<li>  Is the true population mean really 98.6 degrees F?\n",
    "    <ul>\n",
    "    <li> First, try a bootstrap hypothesis test.\n",
    "    <li> Now, let's try frequentist statistical testing. Would you use a one-sample or two-sample test? Why?\n",
    "    <li> In this situation, is it appropriate to use the $t$ or $z$ statistic? \n",
    "    <li> Now try using the other test. How is the result be different? Why?\n",
    "    </ul>\n",
    "<li>  Draw a small sample of size 10 from the data and repeat both frequentist tests. \n",
    "    <ul>\n",
    "    <li> Which one is the correct one to use? \n",
    "    <li> What do you notice? What does this tell you about the difference in application of the $t$ and $z$ statistic?\n",
    "    </ul>\n",
    "<li>  At what temperature should we consider someone's temperature to be \"abnormal\"?\n",
    "    <ul>\n",
    "    <li> As in the previous example, try calculating everything using the boostrap approach, as well as the frequentist approach.\n",
    "    <li> Start by computing the margin of error and confidence interval. When calculating the confidence interval, keep in mind that you should use the appropriate formula for one draw, and not N draws.\n",
    "    </ul>\n",
    "<li>  Is there a significant difference between males and females in normal temperature?\n",
    "    <ul>\n",
    "    <li> What testing approach did you use and why?\n",
    "    <li> Write a story with your conclusion in the context of the original problem.\n",
    "    </ul>\n",
    "</ol>\n",
    "\n",
    "You can include written notes in notebook cells using Markdown: \n",
    "   - In the control panel at the top, choose Cell > Cell Type > Markdown\n",
    "   - Markdown syntax: http://nestacms.com/docs/creating-content/markdown-cheat-sheet\n",
    "\n",
    "#### Resources\n",
    "\n",
    "+ Information and data sources: http://www.amstat.org/publications/jse/datasets/normtemp.txt, http://www.amstat.org/publications/jse/jse_data_archive.htm\n",
    "+ Markdown syntax: http://nestacms.com/docs/creating-content/markdown-cheat-sheet\n",
    "\n",
    "****"
   ]
  },
  {
   "cell_type": "code",
   "execution_count": 1,
   "metadata": {},
   "outputs": [
    {
     "name": "stdout",
     "output_type": "stream",
     "text": [
      "<class 'pandas.core.frame.DataFrame'>\n",
      "RangeIndex: 130 entries, 0 to 129\n",
      "Data columns (total 3 columns):\n",
      "temperature    130 non-null float64\n",
      "gender         130 non-null object\n",
      "heart_rate     130 non-null float64\n",
      "dtypes: float64(2), object(1)\n",
      "memory usage: 3.1+ KB\n"
     ]
    }
   ],
   "source": [
    "%matplotlib inline\n",
    "import matplotlib.pyplot as plt\n",
    "import numpy as np\n",
    "import pandas as pd\n",
    "import seaborn as sns\n",
    "import scipy.stats as stats\n",
    "\n",
    "df = pd.read_csv('data/human_body_temperature.csv')\n",
    "df.info()"
   ]
  },
  {
   "cell_type": "code",
   "execution_count": 2,
   "metadata": {},
   "outputs": [],
   "source": [
    "# Set up the appearance of the plots\n",
    "sns.set()\n",
    "\n",
    "# Seed np.random\n",
    "np.random.seed(42)\n",
    "\n",
    "# Set up a cdf function to quickly see distributions.\n",
    "def ecdf(data):\n",
    "    '''Compute continuous distribution function for one column'''\n",
    "    n = len(data)\n",
    "    x = np.sort(data)\n",
    "    y = np.arange(1, n+1) / n\n",
    "    return x, y\n",
    "\n",
    "# Set up a function to generate bootstrap replicates\n",
    "def bs_reps(data, func, size=1):\n",
    "    '''Draw boostrap replicates'''\n",
    "    # Initialize empty array\n",
    "    bs_replicates = np.empty(size)\n",
    "    # Generate replicates\n",
    "    for i in range(size):\n",
    "        bs_replicates[i] = func(np.random.choice(data, size=len(data)))\n",
    "    return bs_replicates"
   ]
  },
  {
   "cell_type": "code",
   "execution_count": 3,
   "metadata": {},
   "outputs": [
    {
     "data": {
      "text/html": [
       "<div>\n",
       "<style scoped>\n",
       "    .dataframe tbody tr th:only-of-type {\n",
       "        vertical-align: middle;\n",
       "    }\n",
       "\n",
       "    .dataframe tbody tr th {\n",
       "        vertical-align: top;\n",
       "    }\n",
       "\n",
       "    .dataframe thead th {\n",
       "        text-align: right;\n",
       "    }\n",
       "</style>\n",
       "<table border=\"1\" class=\"dataframe\">\n",
       "  <thead>\n",
       "    <tr style=\"text-align: right;\">\n",
       "      <th></th>\n",
       "      <th>temperature</th>\n",
       "      <th>gender</th>\n",
       "      <th>heart_rate</th>\n",
       "    </tr>\n",
       "  </thead>\n",
       "  <tbody>\n",
       "    <tr>\n",
       "      <th>0</th>\n",
       "      <td>99.3</td>\n",
       "      <td>F</td>\n",
       "      <td>68.0</td>\n",
       "    </tr>\n",
       "    <tr>\n",
       "      <th>1</th>\n",
       "      <td>98.4</td>\n",
       "      <td>F</td>\n",
       "      <td>81.0</td>\n",
       "    </tr>\n",
       "    <tr>\n",
       "      <th>2</th>\n",
       "      <td>97.8</td>\n",
       "      <td>M</td>\n",
       "      <td>73.0</td>\n",
       "    </tr>\n",
       "    <tr>\n",
       "      <th>3</th>\n",
       "      <td>99.2</td>\n",
       "      <td>F</td>\n",
       "      <td>66.0</td>\n",
       "    </tr>\n",
       "    <tr>\n",
       "      <th>4</th>\n",
       "      <td>98.0</td>\n",
       "      <td>F</td>\n",
       "      <td>73.0</td>\n",
       "    </tr>\n",
       "  </tbody>\n",
       "</table>\n",
       "</div>"
      ],
      "text/plain": [
       "   temperature gender  heart_rate\n",
       "0         99.3      F        68.0\n",
       "1         98.4      F        81.0\n",
       "2         97.8      M        73.0\n",
       "3         99.2      F        66.0\n",
       "4         98.0      F        73.0"
      ]
     },
     "execution_count": 3,
     "metadata": {},
     "output_type": "execute_result"
    }
   ],
   "source": [
    "# Check the basic stats\n",
    "df.describe()\n",
    "df.head()"
   ]
  },
  {
   "cell_type": "markdown",
   "metadata": {
    "collapsed": true
   },
   "source": [
    "# 1.  Is the distribution of body temperatures normal?\n",
    "\n",
    "Yes.  Two tests are used below to show that the data conforms to a normal distribution."
   ]
  },
  {
   "cell_type": "code",
   "execution_count": 4,
   "metadata": {
    "scrolled": true
   },
   "outputs": [
    {
     "data": {
      "image/png": "[encoded data removed]",
      "text/plain": [
       "<Figure size 432x288 with 1 Axes>"
      ]
     },
     "metadata": {},
     "output_type": "display_data"
    }
   ],
   "source": [
    "# Method 1: Plot ECDF over theoretical CDF \n",
    "\n",
    "# Get x and y points from the \n",
    "x, y = ecdf(df.temperature)\n",
    "mean = np.mean(df.temperature)\n",
    "std = np.std(df.temperature)\n",
    "sample = np.random.normal(mean, std, size=10000)\n",
    "x_theor, y_theor = ecdf(sample)\n",
    "\n",
    "# Plot it.\n",
    "_ = plt.plot(x_theor, y_theor, color='purple')\n",
    "_ = plt.plot(x, y, marker='.', linestyle='none', color='green')\n",
    "_ = plt.legend(('Normal distribution', 'Observed data'), loc='lower right')\n",
    "_ = plt.xlabel('Body temperature in degrees Farenheit')\n",
    "_ = plt.ylabel('Cumulative distribution function')"
   ]
  },
  {
   "cell_type": "code",
   "execution_count": 5,
   "metadata": {},
   "outputs": [
    {
     "name": "stdout",
     "output_type": "stream",
     "text": [
      "Normal distribution IS a good fit.  (p-value =  0.2587479863488254 )\n"
     ]
    }
   ],
   "source": [
    "# Method 2: P-value testing using scipy.stats.normaltest with alpha = .05\n",
    "\n",
    "chisq, pval = stats.normaltest(df.temperature)\n",
    "\n",
    "if pval < .05:\n",
    "    print('Normal distribution IS NOT a good fit.  (p-value = ', pval, ')')\n",
    "else:\n",
    "    print('Normal distribution IS a good fit.  (p-value = ', pval, ')')"
   ]
  },
  {
   "cell_type": "markdown",
   "metadata": {},
   "source": [
    "# 2.  Is the sample size large? Are the observations independent?\n",
    "\n",
    "Yes.  Per boxes 2 and 4, we see 130 rows.  130 is greater than 30, so the sample is considered large. \n",
    "\n",
    "Yes.  130 is less than 10% of the human population, meeting the 10% rule for independence when sampling without replacement."
   ]
  },
  {
   "cell_type": "markdown",
   "metadata": {},
   "source": [
    "# 3a.  Is the true population mean really 98.6 degrees F?\n",
    "\n",
    "If we set H0: mean == 98.6 and Ha: mean =/= 98.6 with alpha = .05, the tests below do not support that the true mean is equal to 98.6F.\n",
    "\n",
    "Bootstrap testing of the mean gave us a mean below the assumed population mean, and the one-sample t-test provides a p-val well below our desired .05 significance.  Both tests indicate that we should reject H0 in favor of Ha."
   ]
  },
  {
   "cell_type": "code",
   "execution_count": 6,
   "metadata": {},
   "outputs": [
    {
     "name": "stdout",
     "output_type": "stream",
     "text": [
      "Bootstrap mean =  98.24980038461538\n"
     ]
    }
   ],
   "source": [
    "# Bootstrap test of mean\n",
    "\n",
    "# Get several bootstrap replicates of df.temperature.\n",
    "bs_replicates = bs_reps(df.temperature, np.mean, 10000)\n",
    "\n",
    "# Print the test results.\n",
    "print('Bootstrap mean = ', np.mean(bs_replicates))"
   ]
  },
  {
   "cell_type": "code",
   "execution_count": 7,
   "metadata": {},
   "outputs": [
    {
     "name": "stdout",
     "output_type": "stream",
     "text": [
      "t =  -5.4548232923645195 (measured in units of std err)\n",
      "p-val =  0.0000002411 (very, very low)\n"
     ]
    }
   ],
   "source": [
    "# Scipy one-sample t-test\n",
    "\n",
    "# Get t, pval from scipy.stats.ttest_1samp\n",
    "t, pval = stats.ttest_1samp(df.temperature, 98.6)\n",
    "\n",
    "print('t = ', t, '(measured in units of std err)')\n",
    "print('p-val = ', '%.10f' % pval, '(very, very low)')"
   ]
  },
  {
   "cell_type": "markdown",
   "metadata": {},
   "source": [
    "# 3b.  Would you use a one-sample or two-sample [frequentist] test? Why? \n",
    "\n",
    "Use a one-sample test, since we're only testing one statistic.\n",
    "\n",
    "# 3c.  In this situation, is it appropriate to use the 𝑡 or 𝑧 statistic?\n",
    "\n",
    "𝑡, as we are working with means rather than proportions and are using estimates.  (Although I think z is also appropriate since we have a large sample.)\n",
    "\n",
    "# 3d.  Now try using the other test. How is the result be different? Why?\n",
    "\n",
    "The 𝑡- and 𝑧-scores are very similar, but the p-value for the 𝑧-score is smaller by a factor of 6.  I doubt that matters when the numbers are this small.  In this case, the population mean wasn't known and 𝑧 was estimated using the sample statistics.  Technically, both scores were created with estimates."
   ]
  },
  {
   "cell_type": "code",
   "execution_count": 8,
   "metadata": {},
   "outputs": [
    {
     "name": "stdout",
     "output_type": "stream",
     "text": [
      "z =  -5.475925202078116 (measured in units of std err)\n",
      "p-val =  0.0000000435 (very, very low)\n"
     ]
    }
   ],
   "source": [
    "# Computational z-test (for Q3d)\n",
    "\n",
    "# Get the variables\n",
    "m = np.mean(df.temperature) # mean of sample\n",
    "n = len(df.temperature) # sample size\n",
    "s = np.std(df.temperature) # stdev of sample\n",
    "sem = s / np.sqrt(n) # sample error\n",
    "\n",
    "# Calculate z-score and p-value\n",
    "z = (m - 98.6) / sem\n",
    "pval = stats.norm.cdf(z) * 2\n",
    "\n",
    "print('z = ', z, '(measured in units of std err)')\n",
    "print('p-val = ', '%.10f' % pval, '(very, very low)')"
   ]
  },
  {
   "cell_type": "markdown",
   "metadata": {},
   "source": [
    "# 4a.  Draw a small sample of size 10 from the data and repeat both frequentist tests."
   ]
  },
  {
   "cell_type": "code",
   "execution_count": 9,
   "metadata": {},
   "outputs": [
    {
     "name": "stdout",
     "output_type": "stream",
     "text": [
      "t =  -1.3605380662763995 (measured in units of std err)\n",
      "p-val =  0.2067549661\n",
      "z =  -1.4341330442648481 (measured in units of std err)\n",
      "p-val =  0.1515342997\n"
     ]
    }
   ],
   "source": [
    "# Draw random sample\n",
    "sample = np.random.choice(df.temperature, size=10)\n",
    "\n",
    "# Get the t-test for the new sample\n",
    "t_10, pval_t = stats.ttest_1samp(sample, 98.6)\n",
    "\n",
    "print('t = ', t_10, '(measured in units of std err)')\n",
    "print('p-val = ', '%.10f' % pval_t)\n",
    "\n",
    "# Get the variables for the z-test\n",
    "m_10 = np.mean(sample) # mean of sample\n",
    "n_10 = len(sample) # sample size\n",
    "s_10 = np.std(sample) # stdev of sample\n",
    "sem_10 = s_10 / np.sqrt(n_10) # sample error\n",
    "\n",
    "# Calculate z-score and p-value\n",
    "z_10 = (m_10 - 98.6) / sem_10\n",
    "pval_z = stats.norm.cdf(z_10) * 2\n",
    "\n",
    "print('z = ', z_10, '(measured in units of std err)')\n",
    "print('p-val = ', '%.10f' % pval_z)"
   ]
  },
  {
   "cell_type": "markdown",
   "metadata": {},
   "source": [
    "# 4b.  Which one is the correct one to use?\n",
    "\n",
    "# 4c.  What do you notice? What does this tell you about the difference in application of the  𝑡  and  𝑧  statistic?\n",
    "\n",
    "To be perfectly honest, I can't answer either of these questions.  Every time I rerun the block of code, 'sample' becomes a different array.  The 𝑡 and 𝑧 values (and thus the associated p-values) change wildly.  Both tests tell me to fail to reject H0 and to reject H0 at various times.  \n",
    "\n",
    "I looked for other examples on the internet.  The examples I found ran the sample once and made conclusions from that one array.  I emphatically believe this is the wrong way about things and that this question is designed to point out that small samples don't mean much at all."
   ]
  },
  {
   "cell_type": "markdown",
   "metadata": {},
   "source": [
    "# 5.  At what temperature should we consider someone's temperature to be \"abnormal\"?\n",
    "\n",
    "First of all, \"abnormal\" hasn't been defined.  Is abnormal a fever?  A symptom of a thyroid condition?  Just outside the bounds?  Without definition, I cannot make this determination.\n",
    "\n",
    "As calculated below, we show a 95% confidence that the \"average\" body temperature will fall between approximately 98.1 and 98.4 degrees F.  \n",
    "\n",
    "A single person's temperature may not fall into our interval at all.  The 95% prediction interval says that a single instance will probably fall between approximately 96.8 and 99.7 degrees F.  This is why a fever is defined for practical use as a temperature over 100.4 degrees F."
   ]
  },
  {
   "cell_type": "code",
   "execution_count": 10,
   "metadata": {},
   "outputs": [
    {
     "name": "stdout",
     "output_type": "stream",
     "text": [
      "Calculated margin of error for the population: 0.12554865777413815\n",
      "Calculated margin of error for a single person: 1.4314749424825415\n",
      "\n",
      "95% confidence intervals for the mean of the population:\n",
      "Bootstrap CI:\t 98.12153846153845 , 98.37692307692308\n",
      "𝑡 CI:\t\t 98.12200290560804 , 98.37645863285351\n",
      "𝑧 CI:\t\t 98.12319642818166 , 98.3752651102799\n",
      "\n",
      "95% prediction interval for an individual temperature entry:\n",
      "𝑧 PI:\t\t 96.81775582674824 , 99.68070571171332\n"
     ]
    }
   ],
   "source": [
    "# Create a margin of error calculation for 95%, 2-tailed confidence level z-stat\n",
    "z_crit = stats.norm.ppf(.975)\n",
    "margin_error = z_crit * sem # error used for population\n",
    "margin_error_single = z_crit * s # stdev used for single instance\n",
    "print('Calculated margin of error for the population:', margin_error)\n",
    "print('Calculated margin of error for a single person:', margin_error_single)\n",
    "print()\n",
    "\n",
    "# Check the confidence intervals for the population as a whole\n",
    "print('95% confidence intervals for the mean of the population:')\n",
    "bootstrap_ci = np.percentile(bs_replicates, [2.5, 97.5])\n",
    "t_ci = stats.t.interval(0.95, len(df.temperature)-1, loc=np.mean(df.temperature), scale=stats.sem(df.temperature))\n",
    "z_ci = stats.norm.interval(0.95, loc=np.mean(df.temperature), scale=stats.sem(df.temperature))\n",
    "print('Bootstrap CI:\\t', bootstrap_ci[0], ',', bootstrap_ci[1])\n",
    "print('𝑡 CI:\\t\\t', t_ci[0], ',', t_ci[1])\n",
    "print('𝑧 CI:\\t\\t', z_ci[0], ',', z_ci[1])\n",
    "print()\n",
    "\n",
    "# Check the confidence interval for an individual (prediction interval)\n",
    "z_pi = stats.norm.interval(0.95, loc=np.mean(df.temperature), scale=np.std(df.temperature))\n",
    "print('95% prediction interval for an individual temperature entry:')\n",
    "print('𝑧 PI:\\t\\t', z_pi[0], ',', z_pi[1])"
   ]
  },
  {
   "cell_type": "code",
   "execution_count": 11,
   "metadata": {},
   "outputs": [
    {
     "name": "stderr",
     "output_type": "stream",
     "text": [
      "C:\\Users\\Misty\\Anaconda3\\lib\\site-packages\\scipy\\stats\\stats.py:1713: FutureWarning: Using a non-tuple sequence for multidimensional indexing is deprecated; use `arr[tuple(seq)]` instead of `arr[seq]`. In the future this will be interpreted as an array index, `arr[np.array(seq)]`, which will result either in an error or a different result.\n",
      "  return np.add.reduce(sorted[indexer] * weights, axis=axis) / sumval\n"
     ]
    },
    {
     "data": {
      "image/png": "[encoded data removed]",
      "text/plain": [
       "<Figure size 432x288 with 1 Axes>"
      ]
     },
     "metadata": {},
     "output_type": "display_data"
    }
   ],
   "source": [
    "# Plot the distribution and 98.6, with CI markers\n",
    "_ = sns.distplot(df.temperature, bins=int(np.sqrt(130)))\n",
    "_ = plt.xlabel('Observed temperatures in degrees F')\n",
    "_ = plt.ylabel('% of observations')\n",
    "_ = plt.axvline(x=98.6, color='red')\n",
    "_ = plt.legend(('Rejected mean', 'Observations'), loc='upper left')\n",
    "# Add text and lines marking the 95% prediction interval:\n",
    "_ = plt.text(x=z_pi[0]-1, y=.2, s='2.5% PI')\n",
    "_ = plt.vlines(ymin=0, ymax=.2, x=z_pi[0])\n",
    "_ = plt.text(x=z_pi[1]+.1, y=.2, s='97.5% PI')\n",
    "_ = plt.vlines(ymin=0, ymax=.2, x=z_pi[1])\n",
    "_ = plt.title('Observations of human body temperature with \\n 95% prediction interval for an individual temperature \\n (and rejected 98.6 F mean temperature)')"
   ]
  },
  {
   "cell_type": "markdown",
   "metadata": {},
   "source": [
    "# 6.  Is there a significant difference between males and females in normal temperature?\n",
    "\n",
    "We'll set H0: difference of means == 0 and Ha: difference of means =/= 0 with an alpha = .05.  Using scipy.stats.ttest_ind, a t-test designed for two independent samples, we obtain a p-value of 0.024.  Based on this, we must reject H0 in favor of Ha -- female body temperatures and male body temperatures are not statistically equal.\n",
    "\n",
    "Once you look at the plots, it's quite obvious that at least one person came in with a qualifying fever.  If that value is removed, the p-value of the difference of means is around 0.41, so we would still reject H0."
   ]
  },
  {
   "cell_type": "code",
   "execution_count": 12,
   "metadata": {},
   "outputs": [],
   "source": [
    "# Determine the population statistics\n",
    "female = df.temperature.loc[df.gender == 'F']\n",
    "male = df.temperature.loc[df.gender == 'M']\n",
    "\n",
    "m_female = np.mean(female) # mean of sample\n",
    "n_female = len(female) # sample size\n",
    "s_female = np.std(female) # stdev of sample\n",
    "sem_female = s_female / np.sqrt(n_female) # sample error\n",
    "\n",
    "m_male = np.mean(male) # mean of sample\n",
    "n_male = len(male) # sample size\n",
    "s_male = np.std(male) # stdev of sample\n",
    "sem_male = s_male / np.sqrt(n_male) # sample error"
   ]
  },
  {
   "cell_type": "code",
   "execution_count": 13,
   "metadata": {},
   "outputs": [
    {
     "name": "stdout",
     "output_type": "stream",
     "text": [
      "Bootstrap mean (female) =  98.39299523076923\n",
      "Bootstrap mean (male) =  98.10407923076923\n",
      "Bootstrap CI (female):\t 98.21384615384615 , 98.56923076923077\n",
      "Bootstrap CI (male):\t 97.9353846153846 , 98.27384615384615\n"
     ]
    }
   ],
   "source": [
    "# Bootstrap tests of mean\n",
    "\n",
    "# Get several bootstrap replicates for female readings.\n",
    "bs_replicates_female = bs_reps(female, np.mean, 10000)\n",
    "# Print the test results.\n",
    "print('Bootstrap mean (female) = ', np.mean(bs_replicates_female))\n",
    "\n",
    "# Get several bootstrap replicates of df.temperature.\n",
    "bs_replicates_male = bs_reps(male, np.mean, 10000)\n",
    "# Print the test results.\n",
    "print('Bootstrap mean (male) = ', np.mean(bs_replicates_male))\n",
    "\n",
    "# Get the CIs while we're at it\n",
    "bootstrap_ci_female = np.percentile(bs_replicates_female, [2.5, 97.5])\n",
    "print('Bootstrap CI (female):\\t', bootstrap_ci_female[0], ',', bootstrap_ci_female[1])\n",
    "bootstrap_ci_male = np.percentile(bs_replicates_male, [2.5, 97.5])\n",
    "print('Bootstrap CI (male):\\t', bootstrap_ci_male[0], ',', bootstrap_ci_male[1])"
   ]
  },
  {
   "cell_type": "code",
   "execution_count": 14,
   "metadata": {},
   "outputs": [
    {
     "name": "stdout",
     "output_type": "stream",
     "text": [
      "t =  2.2854345381656103 (measured in units of std err)\n",
      "p-val =  0.0239318831 (very small)\n"
     ]
    }
   ],
   "source": [
    "# Run a scipy t-test for teo independent populations\n",
    "t_2, pval_2 = stats.ttest_ind(female, male)\n",
    "\n",
    "print('t = ', t_2, '(measured in units of std err)')\n",
    "print('p-val = ', '%.10f' % pval_2, '(very small)')"
   ]
  },
  {
   "cell_type": "code",
   "execution_count": 15,
   "metadata": {},
   "outputs": [
    {
     "data": {
      "image/png": "[encoded data removed]",
      "text/plain": [
       "<Figure size 432x288 with 1 Axes>"
      ]
     },
     "metadata": {},
     "output_type": "display_data"
    }
   ],
   "source": [
    "# Plot female and male ecdfs\n",
    "xf, yf = ecdf(female)\n",
    "xm, ym = ecdf(male)\n",
    "\n",
    "_ = plt.plot(xf, yf, marker='.', linestyle='none', color='purple')\n",
    "_ = plt.plot(xm, ym, marker='.', linestyle='none', color='green')\n",
    "_ = plt.xlabel('Human body temperatures')\n",
    "_ = plt.ylabel('Cumulative distribution')\n",
    "_ = plt.legend(('Female', 'Male'))"
   ]
  },
  {
   "cell_type": "code",
   "execution_count": 16,
   "metadata": {},
   "outputs": [
    {
     "data": {
      "image/png": "[encoded data removed]",
      "text/plain": [
       "<Figure size 432x288 with 1 Axes>"
      ]
     },
     "metadata": {},
     "output_type": "display_data"
    }
   ],
   "source": [
    "# Plot something else\n",
    "_ = sns.distplot(female, color='purple')\n",
    "_ = sns.distplot(male, color='green')\n",
    "_ = plt.xlabel('Human body temperatures')\n",
    "_ = plt.ylabel('Frequency of observation')\n",
    "_ = plt.legend(('Female', 'Male'))"
   ]
  }
 ],
 "metadata": {
  "kernelspec": {
   "display_name": "Python 3",
   "language": "python",
   "name": "python3"
  },
  "language_info": {
   "codemirror_mode": {
    "name": "ipython",
    "version": 3
   },
   "file_extension": ".py",
   "mimetype": "text/x-python",
   "name": "python",
   "nbconvert_exporter": "python",
   "pygments_lexer": "ipython3",
   "version": "3.7.2"
  }
 },
 "nbformat": 4,
 "nbformat_minor": 1
}
